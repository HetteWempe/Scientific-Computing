{
 "cells": [
  {
   "cell_type": "markdown",
   "metadata": {},
   "source": [
    "Exercise 1.2"
   ]
  },
  {
   "cell_type": "code",
   "execution_count": 85,
   "metadata": {},
   "outputs": [
    {
     "name": "stdout",
     "output_type": "stream",
     "text": [
      "Defaulting to user installation because normal site-packages is not writeableNote: you may need to restart the kernel to use updated packages.\n",
      "\n",
      "Collecting matplotlib\n",
      "  Downloading matplotlib-3.10.0-cp311-cp311-win_amd64.whl (8.0 MB)\n",
      "     ---------------------------------------- 8.0/8.0 MB 51.1 MB/s eta 0:00:00\n",
      "Collecting contourpy>=1.0.1\n",
      "  Downloading contourpy-1.3.1-cp311-cp311-win_amd64.whl (219 kB)\n",
      "     ---------------------------------------- 219.8/219.8 kB ? eta 0:00:00\n",
      "Collecting cycler>=0.10\n",
      "  Downloading cycler-0.12.1-py3-none-any.whl (8.3 kB)\n",
      "Collecting fonttools>=4.22.0\n",
      "  Downloading fonttools-4.56.0-cp311-cp311-win_amd64.whl (2.2 MB)\n",
      "     ---------------------------------------- 2.2/2.2 MB 70.7 MB/s eta 0:00:00\n",
      "Collecting kiwisolver>=1.3.1\n",
      "  Downloading kiwisolver-1.4.8-cp311-cp311-win_amd64.whl (71 kB)\n",
      "     ---------------------------------------- 72.0/72.0 kB ? eta 0:00:00\n",
      "Requirement already satisfied: numpy>=1.23 in c:\\users\\wempe\\appdata\\roaming\\python\\python311\\site-packages (from matplotlib) (2.2.2)\n",
      "Requirement already satisfied: packaging>=20.0 in c:\\users\\wempe\\appdata\\roaming\\python\\python311\\site-packages (from matplotlib) (24.2)\n",
      "Collecting pillow>=8\n",
      "  Downloading pillow-11.1.0-cp311-cp311-win_amd64.whl (2.6 MB)\n",
      "     ---------------------------------------- 2.6/2.6 MB 81.7 MB/s eta 0:00:00\n",
      "Collecting pyparsing>=2.3.1\n",
      "  Downloading pyparsing-3.2.1-py3-none-any.whl (107 kB)\n",
      "     ---------------------------------------- 107.7/107.7 kB ? eta 0:00:00\n",
      "Requirement already satisfied: python-dateutil>=2.7 in c:\\users\\wempe\\appdata\\roaming\\python\\python311\\site-packages (from matplotlib) (2.9.0.post0)\n",
      "Requirement already satisfied: six>=1.5 in c:\\users\\wempe\\appdata\\roaming\\python\\python311\\site-packages (from python-dateutil>=2.7->matplotlib) (1.17.0)\n",
      "Installing collected packages: pyparsing, pillow, kiwisolver, fonttools, cycler, contourpy, matplotlib\n",
      "Successfully installed contourpy-1.3.1 cycler-0.12.1 fonttools-4.56.0 kiwisolver-1.4.8 matplotlib-3.10.0 pillow-11.1.0 pyparsing-3.2.1\n"
     ]
    },
    {
     "name": "stderr",
     "output_type": "stream",
     "text": [
      "\n",
      "[notice] A new release of pip available: 22.3.1 -> 25.0.1\n",
      "[notice] To update, run: python.exe -m pip install --upgrade pip\n"
     ]
    }
   ],
   "source": [
    "pip install matplotlib"
   ]
  },
  {
   "cell_type": "code",
   "execution_count": 86,
   "metadata": {},
   "outputs": [],
   "source": [
    "import numpy as np\n",
    "import math\n",
    "import matplotlib.pyplot as plt"
   ]
  },
  {
   "cell_type": "markdown",
   "metadata": {},
   "source": [
    "In our further analysis we want to compare with the analytical solution for D=1 and time points: 0.001, 0.01, 0.1, and 1. Hence, we set D=1. \n",
    "\n",
    "Discretize:"
   ]
  },
  {
   "cell_type": "code",
   "execution_count": 15,
   "metadata": {},
   "outputs": [],
   "source": [
    "N = 50\n",
    "delta_x = 1/50\n",
    "delta_y = 1/50\n",
    "discr_x = np.linspace(0, 1, N+1)\n",
    "discr_y = np.linspace(0, 1, N+1)\n",
    "\n",
    "delta_t = 1/10000\n"
   ]
  },
  {
   "cell_type": "markdown",
   "metadata": {},
   "source": [
    "Check for stability of the, to be implemented, scheme: (using equation (8) of the assignment)"
   ]
  },
  {
   "cell_type": "code",
   "execution_count": 18,
   "metadata": {},
   "outputs": [
    {
     "data": {
      "text/plain": [
       "True"
      ]
     },
     "execution_count": 18,
     "metadata": {},
     "output_type": "execute_result"
    }
   ],
   "source": [
    "4*delta_t <= delta_x**2"
   ]
  },
  {
   "cell_type": "markdown",
   "metadata": {},
   "source": [
    "Now, the program for the simulation of the two-dimensional time dependent diffusion\n",
    "equation discretized using the explicit finite difference formulation from eq. (7):"
   ]
  },
  {
   "cell_type": "code",
   "execution_count": 125,
   "metadata": {},
   "outputs": [],
   "source": [
    "def c_as_fun_of_(t): \n",
    "    c_old = np.zeros((N+1,N+1))\n",
    "    c_old[50,:] = 1\n",
    "    c_new = c_old.copy()\n",
    "    theta = 0\n",
    "    while theta < t:\n",
    "        for i in range(1,N):\n",
    "            for j in range(0,N+1):\n",
    "                c_new[i,j] = c_old[i,j] + (delta_t/(delta_x**2))*(c_old[i,(j+1)%(N+1)] + c_old[i,(j-1)%(N+1)] + c_old[i-1,j] + c_old[i+1,j] - 4*c_old[i,j])\n",
    "        c_old = c_new.copy()\n",
    "        theta += delta_t\n",
    "    return(c_new)"
   ]
  },
  {
   "cell_type": "code",
   "execution_count": 127,
   "metadata": {},
   "outputs": [
    {
     "data": {
      "text/plain": [
       "array([[0.        , 0.        , 0.        , ..., 0.        , 0.        ,\n",
       "        0.        ],\n",
       "       [0.0058702 , 0.0058702 , 0.0058702 , ..., 0.0058702 , 0.0058702 ,\n",
       "        0.0058702 ],\n",
       "       [0.01178727, 0.01178727, 0.01178727, ..., 0.01178727, 0.01178727,\n",
       "        0.01178727],\n",
       "       ...,\n",
       "       [0.92874419, 0.92874419, 0.92874419, ..., 0.92874419, 0.92874419,\n",
       "        0.92874419],\n",
       "       [0.96433657, 0.96433657, 0.96433657, ..., 0.96433657, 0.96433657,\n",
       "        0.96433657],\n",
       "       [1.        , 1.        , 1.        , ..., 1.        , 1.        ,\n",
       "        1.        ]], shape=(51, 51))"
      ]
     },
     "execution_count": 127,
     "metadata": {},
     "output_type": "execute_result"
    }
   ],
   "source": []
  },
  {
   "cell_type": "markdown",
   "metadata": {},
   "source": [
    "IK HEB MOEITE MET DE ANALYTICAL SOLUTION OP DE EEN OF ANDERE MANIER"
   ]
  },
  {
   "cell_type": "markdown",
   "metadata": {},
   "source": [
    "Comparison to analytical solution:"
   ]
  },
  {
   "cell_type": "code",
   "execution_count": 80,
   "metadata": {},
   "outputs": [],
   "source": [
    "def analytical_sol(y,t):\n",
    "    c = 0\n",
    "    for i in range(1,10000):\n",
    "        summand = math.erfc((1-y+2*i)/(2*np.sqrt(t))) - math.erfc((1+y+2*i)/(2*np.sqrt(t)))\n",
    "        c += summand\n",
    "    return(c)"
   ]
  },
  {
   "cell_type": "code",
   "execution_count": 102,
   "metadata": {},
   "outputs": [],
   "source": [
    "\n",
    "yyy = np.linspace(0,1,1000)\n",
    "ccc_001 = [analytical_sol(y,0.01) for y in yyy]\n",
    "ccc_01 = [analytical_sol(y,0.1) for y in yyy]\n",
    "ccc_1 = [analytical_sol(y,1) for y in yyy]\n"
   ]
  },
  {
   "cell_type": "code",
   "execution_count": 110,
   "metadata": {},
   "outputs": [
    {
     "data": {
      "image/png": "[encoded data removed]",
      "text/plain": [
       "<Figure size 640x480 with 1 Axes>"
      ]
     },
     "metadata": {},
     "output_type": "display_data"
    }
   ],
   "source": [
    "\n",
    "plt.plot(yyy,ccc_001, color = 'blue')\n",
    "plt.plot(yyy,ccc_01, color = 'red')\n",
    "plt.plot(yyy,ccc_1, color = 'green')\n",
    "plt.ylim(0,1)\n",
    "plt.xlabel('y')\n",
    "plt.ylabel('c(y)')\n",
    "plt.title(\"Solution as a function of y for fixed t\")\n",
    "\n",
    "plt.show()\n"
   ]
  },
  {
   "cell_type": "markdown",
   "metadata": {},
   "source": [
    "VAN DE PLOT HIERBOVEN KLOPT DUIDELIJK NIETS"
   ]
  },
  {
   "cell_type": "markdown",
   "metadata": {},
   "source": [
    "pick an arbitrary column because they are all the same anyway"
   ]
  },
  {
   "cell_type": "code",
   "execution_count": 128,
   "metadata": {},
   "outputs": [],
   "source": [
    "c_num_0001 = c_as_fun_of_(0.001)[:,20] #pick an arbitrary column because they are all the same anyway\n",
    "c_num_001 = c_as_fun_of_(0.01)[:,20]\n",
    "c_num_01 = c_as_fun_of_(0.1)[:,20]\n",
    "c_num_1 =c_as_fun_of_(1)[:,20]"
   ]
  },
  {
   "cell_type": "code",
   "execution_count": 129,
   "metadata": {},
   "outputs": [
    {
     "data": {
      "image/png": "[encoded data removed]",
      "text/plain": [
       "<Figure size 640x480 with 1 Axes>"
      ]
     },
     "metadata": {},
     "output_type": "display_data"
    }
   ],
   "source": [
    "plt.plot(discr_y,c_num_0001,marker = 'o', linestyle=\"\",color = 'orange', label = 't=0.001')\n",
    "plt.plot(discr_y,c_num_001,marker = 'o', linestyle=\"\",color = 'blue', label = 't=0.01')\n",
    "plt.plot(discr_y,c_num_01,marker = 'o', linestyle=\"\",color = 'green',label = 't=0.1')\n",
    "plt.plot(discr_y,c_num_1,marker = 'o', linestyle=\"\",color = 'red',label = 't=1')\n",
    "\n",
    "plt.xlabel('y')\n",
    "plt.ylabel('c(y)')\n",
    "plt.title(\"Numerical solution as a function of y for fixed t\")\n",
    "plt.legend(loc = \"upper left\", )\n",
    "plt.show()"
   ]
  }
 ],
 "metadata": {
  "kernelspec": {
   "display_name": "Python 3",
   "language": "python",
   "name": "python3"
  },
  "language_info": {
   "codemirror_mode": {
    "name": "ipython",
    "version": 3
   },
   "file_extension": ".py",
   "mimetype": "text/x-python",
   "name": "python",
   "nbconvert_exporter": "python",
   "pygments_lexer": "ipython3",
   "version": "3.11.1"
  }
 },
 "nbformat": 4,
 "nbformat_minor": 2
}
